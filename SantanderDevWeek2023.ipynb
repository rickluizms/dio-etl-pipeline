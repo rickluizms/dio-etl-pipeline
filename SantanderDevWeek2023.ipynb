{
  "cells": [
    {
      "cell_type": "markdown",
      "metadata": {
        "id": "BPJQsTCULaC-"
      },
      "source": [
        "# Santander Dev Week 2023 (ETL com Python)"
      ]
    },
    {
      "cell_type": "markdown",
      "metadata": {
        "id": "k5fA5OrXt1a3"
      },
      "source": [
        "**Contexto:** Você é um cientista de dados no Santander e recebeu a tarefa de envolver seus clientes de maneira mais personalizada. Seu objetivo é usar o poder da IA Generativa para criar mensagens de marketing personalizadas que serão entregues a cada cliente.\n",
        "\n",
        "**Condições do Problema:**\n",
        "\n",
        "1. Você recebeu uma planilha simples, em formato CSV ('SDW2023.csv'), com uma lista de IDs de usuário do banco:\n",
        "  ```\n",
        "  UserID\n",
        "  1\n",
        "  2\n",
        "  3\n",
        "  4\n",
        "  5\n",
        "  ```\n",
        "2. Seu trabalho é consumir o endpoint `GET https://sdw-2023-prd.up.railway.app/users/{id}` (API da Santander Dev Week 2023) para obter os dados de cada cliente.\n",
        "3. Depois de obter os dados dos clientes, você vai usar a API do ChatGPT (OpenAI) para gerar uma mensagem de marketing personalizada para cada cliente. Essa mensagem deve enfatizar a importância dos investimentos.\n",
        "4. Uma vez que a mensagem para cada cliente esteja pronta, você vai enviar essas informações de volta para a API, atualizando a lista de \"news\" de cada usuário usando o endpoint `PUT https://sdw-2023-prd.up.railway.app/users/{id}`.\n",
        "\n"
      ]
    },
    {
      "cell_type": "code",
      "execution_count": 37,
      "metadata": {
        "id": "FKqLC_CWoYqR"
      },
      "outputs": [],
      "source": [
        "# Utilize sua própria URL se quiser ;)\n",
        "# Repositório da API: https://github.com/digitalinnovationone/santander-dev-week-2023-api\n",
        "sdw2023_api_url = 'http://localhost:8080'"
      ]
    },
    {
      "cell_type": "markdown",
      "metadata": {},
      "source": [
        "## Criar registros"
      ]
    },
    {
      "cell_type": "code",
      "execution_count": 38,
      "metadata": {},
      "outputs": [],
      "source": [
        "import requests\n",
        "import json\n",
        "\n",
        "with open('newUsers.json', 'r') as file:\n",
        "    new_users = json.load(file)\n",
        "\n",
        "def save_user(user):\n",
        "    response = requests.post(f'{sdw2023_api_url}/users', json=user)\n",
        "    return response.json() if response.status_code == 200 else None\n",
        "\n",
        "saved_users = [save_user(user) for user in new_users]"
      ]
    },
    {
      "cell_type": "markdown",
      "metadata": {
        "id": "9dfI-o7gLRq9"
      },
      "source": [
        "## **E**xtract\n",
        "\n",
        "Extraia a lista de IDs de usuário a partir do arquivo CSV. Para cada ID, faça uma requisição GET para obter os dados do usuário correspondente."
      ]
    },
    {
      "cell_type": "code",
      "execution_count": 39,
      "metadata": {
        "id": "NYydpX_GLRCB"
      },
      "outputs": [
        {
          "name": "stdout",
          "output_type": "stream",
          "text": [
            "[1, 2, 3, 4, 5, 6, 7, 8, 9, 10, 11, 12, 13, 14, 15]\n"
          ]
        }
      ],
      "source": [
        "import pandas as pd\n",
        "\n",
        "df = pd.read_csv('SDW2023.csv')\n",
        "user_ids = df['UserID'].tolist()\n",
        "print(user_ids)"
      ]
    },
    {
      "cell_type": "code",
      "execution_count": 40,
      "metadata": {
        "colab": {
          "base_uri": "https://localhost:8080/"
        },
        "id": "F5XOuCZGSTGw",
        "outputId": "d860ec1c-3180-4d47-f227-edc42ceeb968"
      },
      "outputs": [
        {
          "name": "stdout",
          "output_type": "stream",
          "text": [
            "[\n",
            "  {\n",
            "    \"id\": 1,\n",
            "    \"name\": \"Luiz Ricardo\",\n",
            "    \"account\": {\n",
            "      \"id\": 1,\n",
            "      \"number\": \"00003-9\",\n",
            "      \"agency\": \"0009\",\n",
            "      \"balance\": 0.0,\n",
            "      \"limit\": 500.0\n",
            "    },\n",
            "    \"card\": {\n",
            "      \"id\": 1,\n",
            "      \"number\": \"**** **** **** 3693\",\n",
            "      \"limit\": 1000.0\n",
            "    },\n",
            "    \"features\": [],\n",
            "    \"news\": []\n",
            "  },\n",
            "  {\n",
            "    \"id\": 2,\n",
            "    \"name\": \"Usuario 1\",\n",
            "    \"account\": {\n",
            "      \"id\": 2,\n",
            "      \"number\": \"00001-9\",\n",
            "      \"agency\": \"0001\",\n",
            "      \"balance\": 1000.0,\n",
            "      \"limit\": 500.0\n",
            "    },\n",
            "    \"card\": {\n",
            "      \"id\": 2,\n",
            "      \"number\": \"**** **** **** 1234\",\n",
            "      \"limit\": 2000.0\n",
            "    },\n",
            "    \"features\": [],\n",
            "    \"news\": []\n",
            "  },\n",
            "  {\n",
            "    \"id\": 3,\n",
            "    \"name\": \"Usuario 2\",\n",
            "    \"account\": {\n",
            "      \"id\": 3,\n",
            "      \"number\": \"00002-9\",\n",
            "      \"agency\": \"0002\",\n",
            "      \"balance\": 1500.0,\n",
            "      \"limit\": 600.0\n",
            "    },\n",
            "    \"card\": {\n",
            "      \"id\": 3,\n",
            "      \"number\": \"**** **** **** 5678\",\n",
            "      \"limit\": 2500.0\n",
            "    },\n",
            "    \"features\": [],\n",
            "    \"news\": []\n",
            "  },\n",
            "  {\n",
            "    \"id\": 4,\n",
            "    \"name\": \"Usuario 4\",\n",
            "    \"account\": {\n",
            "      \"id\": 4,\n",
            "      \"number\": \"00004-9\",\n",
            "      \"agency\": \"0004\",\n",
            "      \"balance\": 2500.0,\n",
            "      \"limit\": 800.0\n",
            "    },\n",
            "    \"card\": {\n",
            "      \"id\": 4,\n",
            "      \"number\": \"**** **** **** 1121\",\n",
            "      \"limit\": 3500.0\n",
            "    },\n",
            "    \"features\": [],\n",
            "    \"news\": []\n",
            "  },\n",
            "  {\n",
            "    \"id\": 5,\n",
            "    \"name\": \"Usuario 5\",\n",
            "    \"account\": {\n",
            "      \"id\": 5,\n",
            "      \"number\": \"00005-9\",\n",
            "      \"agency\": \"0005\",\n",
            "      \"balance\": 3000.0,\n",
            "      \"limit\": 900.0\n",
            "    },\n",
            "    \"card\": {\n",
            "      \"id\": 5,\n",
            "      \"number\": \"**** **** **** 3141\",\n",
            "      \"limit\": 4000.0\n",
            "    },\n",
            "    \"features\": [],\n",
            "    \"news\": []\n",
            "  },\n",
            "  {\n",
            "    \"id\": 6,\n",
            "    \"name\": \"Usuario 6\",\n",
            "    \"account\": {\n",
            "      \"id\": 6,\n",
            "      \"number\": \"00006-9\",\n",
            "      \"agency\": \"0006\",\n",
            "      \"balance\": 3500.0,\n",
            "      \"limit\": 1000.0\n",
            "    },\n",
            "    \"card\": {\n",
            "      \"id\": 6,\n",
            "      \"number\": \"**** **** **** 5161\",\n",
            "      \"limit\": 4500.0\n",
            "    },\n",
            "    \"features\": [],\n",
            "    \"news\": []\n",
            "  },\n",
            "  {\n",
            "    \"id\": 7,\n",
            "    \"name\": \"Usuario 7\",\n",
            "    \"account\": {\n",
            "      \"id\": 7,\n",
            "      \"number\": \"00007-9\",\n",
            "      \"agency\": \"0007\",\n",
            "      \"balance\": 4000.0,\n",
            "      \"limit\": 1100.0\n",
            "    },\n",
            "    \"card\": {\n",
            "      \"id\": 7,\n",
            "      \"number\": \"**** **** **** 7181\",\n",
            "      \"limit\": 5000.0\n",
            "    },\n",
            "    \"features\": [],\n",
            "    \"news\": []\n",
            "  },\n",
            "  {\n",
            "    \"id\": 8,\n",
            "    \"name\": \"Usuario 8\",\n",
            "    \"account\": {\n",
            "      \"id\": 8,\n",
            "      \"number\": \"00008-9\",\n",
            "      \"agency\": \"0008\",\n",
            "      \"balance\": 4500.0,\n",
            "      \"limit\": 1200.0\n",
            "    },\n",
            "    \"card\": {\n",
            "      \"id\": 8,\n",
            "      \"number\": \"**** **** **** 9201\",\n",
            "      \"limit\": 5500.0\n",
            "    },\n",
            "    \"features\": [],\n",
            "    \"news\": []\n",
            "  },\n",
            "  {\n",
            "    \"id\": 9,\n",
            "    \"name\": \"Usuario 9\",\n",
            "    \"account\": {\n",
            "      \"id\": 9,\n",
            "      \"number\": \"00009-9\",\n",
            "      \"agency\": \"0009\",\n",
            "      \"balance\": 5000.0,\n",
            "      \"limit\": 1300.0\n",
            "    },\n",
            "    \"card\": {\n",
            "      \"id\": 9,\n",
            "      \"number\": \"**** **** **** 1221\",\n",
            "      \"limit\": 6000.0\n",
            "    },\n",
            "    \"features\": [],\n",
            "    \"news\": []\n",
            "  },\n",
            "  {\n",
            "    \"id\": 10,\n",
            "    \"name\": \"Usuario 10\",\n",
            "    \"account\": {\n",
            "      \"id\": 10,\n",
            "      \"number\": \"00010-9\",\n",
            "      \"agency\": \"0010\",\n",
            "      \"balance\": 5500.0,\n",
            "      \"limit\": 1400.0\n",
            "    },\n",
            "    \"card\": {\n",
            "      \"id\": 10,\n",
            "      \"number\": \"**** **** **** 3241\",\n",
            "      \"limit\": 6500.0\n",
            "    },\n",
            "    \"features\": [],\n",
            "    \"news\": []\n",
            "  },\n",
            "  {\n",
            "    \"id\": 11,\n",
            "    \"name\": \"Usuario 11\",\n",
            "    \"account\": {\n",
            "      \"id\": 11,\n",
            "      \"number\": \"00011-9\",\n",
            "      \"agency\": \"0011\",\n",
            "      \"balance\": 6000.0,\n",
            "      \"limit\": 1500.0\n",
            "    },\n",
            "    \"card\": {\n",
            "      \"id\": 11,\n",
            "      \"number\": \"**** **** **** 5261\",\n",
            "      \"limit\": 7000.0\n",
            "    },\n",
            "    \"features\": [],\n",
            "    \"news\": []\n",
            "  },\n",
            "  {\n",
            "    \"id\": 12,\n",
            "    \"name\": \"Usuario 12\",\n",
            "    \"account\": {\n",
            "      \"id\": 12,\n",
            "      \"number\": \"00012-9\",\n",
            "      \"agency\": \"0012\",\n",
            "      \"balance\": 6500.0,\n",
            "      \"limit\": 1600.0\n",
            "    },\n",
            "    \"card\": {\n",
            "      \"id\": 12,\n",
            "      \"number\": \"**** **** **** 7281\",\n",
            "      \"limit\": 7500.0\n",
            "    },\n",
            "    \"features\": [],\n",
            "    \"news\": []\n",
            "  },\n",
            "  {\n",
            "    \"id\": 13,\n",
            "    \"name\": \"Usuario 13\",\n",
            "    \"account\": {\n",
            "      \"id\": 13,\n",
            "      \"number\": \"00013-9\",\n",
            "      \"agency\": \"0013\",\n",
            "      \"balance\": 7000.0,\n",
            "      \"limit\": 1700.0\n",
            "    },\n",
            "    \"card\": {\n",
            "      \"id\": 13,\n",
            "      \"number\": \"**** **** **** 9301\",\n",
            "      \"limit\": 8000.0\n",
            "    },\n",
            "    \"features\": [],\n",
            "    \"news\": []\n",
            "  },\n",
            "  {\n",
            "    \"id\": 14,\n",
            "    \"name\": \"Usuario 14\",\n",
            "    \"account\": {\n",
            "      \"id\": 14,\n",
            "      \"number\": \"00014-9\",\n",
            "      \"agency\": \"0014\",\n",
            "      \"balance\": 7500.0,\n",
            "      \"limit\": 1800.0\n",
            "    },\n",
            "    \"card\": {\n",
            "      \"id\": 14,\n",
            "      \"number\": \"**** **** **** 1321\",\n",
            "      \"limit\": 8500.0\n",
            "    },\n",
            "    \"features\": [],\n",
            "    \"news\": []\n",
            "  },\n",
            "  {\n",
            "    \"id\": 15,\n",
            "    \"name\": \"Usuario 15\",\n",
            "    \"account\": {\n",
            "      \"id\": 15,\n",
            "      \"number\": \"00015-9\",\n",
            "      \"agency\": \"0015\",\n",
            "      \"balance\": 8000.0,\n",
            "      \"limit\": 1900.0\n",
            "    },\n",
            "    \"card\": {\n",
            "      \"id\": 15,\n",
            "      \"number\": \"**** **** **** 3341\",\n",
            "      \"limit\": 9000.0\n",
            "    },\n",
            "    \"features\": [],\n",
            "    \"news\": []\n",
            "  }\n",
            "]\n"
          ]
        }
      ],
      "source": [
        "import requests\n",
        "import json\n",
        "\n",
        "def get_user(id):\n",
        "\n",
        "  response = requests.get(f'{sdw2023_api_url}/users/{id}')\n",
        "  return response.json() if response.status_code == 200 else None\n",
        "\n",
        "users = [user for id in user_ids if (user := get_user(id)) is not None]\n",
        "print(json.dumps(users, indent=2))"
      ]
    },
    {
      "cell_type": "markdown",
      "metadata": {
        "id": "cWoqInB4TF1x"
      },
      "source": [
        "## **T**ransform\n",
        "\n",
        "Utilize a API do OpenAI GPT-4 para gerar uma mensagem de marketing personalizada para cada usuário."
      ]
    },
    {
      "cell_type": "code",
      "execution_count": null,
      "metadata": {
        "id": "O--PCAObTQkK"
      },
      "outputs": [],
      "source": [
        "!pip install openai"
      ]
    },
    {
      "cell_type": "code",
      "execution_count": null,
      "metadata": {
        "id": "sUB1doiDTX3y"
      },
      "outputs": [],
      "source": [
        "# Documentação Oficial da API OpenAI: https://platform.openai.com/docs/api-reference/introduction\n",
        "# Informações sobre o Período Gratuito: https://help.openai.com/en/articles/4936830\n",
        "\n",
        "# Para gerar uma API Key:\n",
        "# 1. Crie uma conta na OpenAI\n",
        "# 2. Acesse a seção \"API Keys\"\n",
        "# 3. Clique em \"Create API Key\"\n",
        "# Link direto: https://platform.openai.com/account/api-keys\n",
        "\n",
        "# Substitua o texto TODO por sua API Key da OpenAI, ela será salva como uma variável de ambiente.\n",
        "openai_api_key = 'API_KEY'"
      ]
    },
    {
      "cell_type": "code",
      "execution_count": null,
      "metadata": {
        "colab": {
          "base_uri": "https://localhost:8080/"
        },
        "id": "n1w78kNxTrZY",
        "outputId": "b3732006-e25c-4c82-e068-ec7ffca14471"
      },
      "outputs": [],
      "source": [
        "import openai\n",
        "import time\n",
        "\n",
        "\n",
        "openai.api_key = openai_api_key\n",
        "\n",
        "def generate_ai_news(user):\n",
        "  completion = openai.ChatCompletion.create(\n",
        "    model=\"gpt-3.5-turbo\",\n",
        "    messages=[\n",
        "      {\n",
        "          \"role\": \"system\",\n",
        "          \"content\": \"Você é um especialista em markting bancário.\"\n",
        "      },\n",
        "      {\n",
        "          \"role\": \"user\",\n",
        "          \"content\": f\"Crie uma mensagem para {user['name']} sobre a importância dos investimentos (máximo de 100 caracteres)\"\n",
        "      }\n",
        "    ]\n",
        "  )\n",
        "  return completion.choices[0].message.content.strip('\\\"')\n",
        "\n",
        "for user in users:\n",
        "  news = generate_ai_news(user)\n",
        "  print(news)\n",
        "  time.sleep(30)\n",
        "  user['news'].append({\n",
        "      \"icon\": \"https://digitalinnovationone.github.io/santander-dev-week-2023-api/icons/credit.svg\",\n",
        "      \"description\": news\n",
        "  })"
      ]
    },
    {
      "cell_type": "markdown",
      "metadata": {
        "id": "kNuP0SDUZMBY"
      },
      "source": [
        "## **L**oad\n",
        "\n",
        "Atualize a lista de \"news\" de cada usuário na API com a nova mensagem gerada."
      ]
    },
    {
      "cell_type": "code",
      "execution_count": null,
      "metadata": {
        "colab": {
          "base_uri": "https://localhost:8080/"
        },
        "id": "YefWfYBoZMN2",
        "outputId": "b0c06200-e14e-4cce-901f-a85ea3eb2830"
      },
      "outputs": [],
      "source": [
        "def update_user(user):\n",
        "  response = requests.put(f\"{sdw2023_api_url}/users/{user['id']}\", json=user)\n",
        "  return True if response.status_code == 200 else False\n",
        "\n",
        "for user in users:\n",
        "  success = update_user(user)\n",
        "  print(f\"User {user['name']} updated? {success}!\")"
      ]
    }
  ],
  "metadata": {
    "colab": {
      "collapsed_sections": [
        "kNuP0SDUZMBY"
      ],
      "provenance": []
    },
    "kernelspec": {
      "display_name": "Python 3",
      "name": "python3"
    },
    "language_info": {
      "codemirror_mode": {
        "name": "ipython",
        "version": 3
      },
      "file_extension": ".py",
      "mimetype": "text/x-python",
      "name": "python",
      "nbconvert_exporter": "python",
      "pygments_lexer": "ipython3",
      "version": "3.9.13"
    }
  },
  "nbformat": 4,
  "nbformat_minor": 0
}
